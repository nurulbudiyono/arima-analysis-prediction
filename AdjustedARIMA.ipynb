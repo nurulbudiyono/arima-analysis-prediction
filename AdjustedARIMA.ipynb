{
 "cells": [
  {
   "cell_type": "code",
   "execution_count": 1,
   "metadata": {},
   "outputs": [],
   "source": [
    "import warnings\n",
    "from pandas import read_csv\n",
    "from pandas import datetime\n",
    "from pandas import DataFrame\n",
    "from statsmodels.tsa.arima_model import ARIMA\n",
    "from sklearn.metrics import mean_squared_error\n",
    "from math import sqrt"
   ]
  },
  {
   "cell_type": "code",
   "execution_count": 2,
   "metadata": {},
   "outputs": [],
   "source": [
    "series1 = read_csv('PredictTea-train-edit5.csv', header=0, index_col=0, squeeze=True)\n",
    "series2 = read_csv('PredictTea-test-edit5.csv', header=0, index_col=0, squeeze=True)"
   ]
  },
  {
   "cell_type": "code",
   "execution_count": 3,
   "metadata": {},
   "outputs": [
    {
     "name": "stdout",
     "output_type": "stream",
     "text": [
      "ARIMA(0, 0, 0) MSE=0.224\n",
      "ARIMA(0, 0, 1) MSE=0.204\n",
      "ARIMA(0, 0, 2) MSE=0.207\n",
      "ARIMA(0, 1, 0) MSE=0.215\n",
      "ARIMA(0, 1, 1) MSE=0.217\n",
      "ARIMA(0, 1, 2) MSE=0.205\n",
      "ARIMA(0, 2, 0) MSE=0.345\n",
      "ARIMA(0, 2, 1) MSE=0.218\n",
      "ARIMA(1, 0, 0) MSE=0.192\n",
      "ARIMA(1, 0, 1) MSE=0.208\n",
      "ARIMA(1, 1, 0) MSE=0.209\n",
      "ARIMA(1, 1, 1) MSE=0.192\n",
      "ARIMA(1, 2, 0) MSE=0.273\n",
      "ARIMA(2, 0, 0) MSE=0.199\n",
      "ARIMA(2, 0, 1) MSE=0.219\n",
      "ARIMA(2, 1, 0) MSE=0.220\n",
      "ARIMA(2, 1, 1) MSE=0.198\n",
      "ARIMA(2, 2, 0) MSE=0.282\n",
      "Best ARIMA(1, 0, 0) MSE=0.192\n"
     ]
    }
   ],
   "source": [
    "# evaluate an ARIMA model for a given order (p,d,q)\n",
    "def evaluate_arima_model(train_dataset, test_dataset, arima_order):\n",
    "\thistory = [x for x in train_dataset]\n",
    "\tpredictions = list()\n",
    "\t#make predictions\n",
    "\tfor t in range(len(test_dataset)):\n",
    "\t\tmodel = ARIMA(history, order=arima_order)\n",
    "\t\tmodel_fit = model.fit(disp=0)\n",
    "\t\tyhat = model_fit.forecast()[0]\n",
    "\t\tpredictions.append(yhat)\n",
    "\t\thistory.append(test_dataset[t])\n",
    "\t# calculate out of sample error\n",
    "\terror = mean_squared_error(test_dataset, predictions)\n",
    "\treturn error\n",
    "\n",
    "# evaluate combinations of p, d and q values for an ARIMA model\n",
    "def evaluate_models(train_dataset, test_dataset, p_values, d_values, q_values):\n",
    "\t#train_dataset = train_dataset.tolist()\n",
    "\t#test_dataset = test_dataset.tolist()\n",
    "\tbest_score, best_cfg = float(\"inf\"), None\n",
    "\tfor p in p_values:\n",
    "\t\tfor d in d_values:\n",
    "\t\t\tfor q in q_values:\n",
    "\t\t\t\torder = (p,d,q)\n",
    "\t\t\t\ttry:\n",
    "\t\t\t\t\trmse = sqrt(evaluate_arima_model(train_dataset, test_dataset, order))                 \n",
    "\t\t\t\t\tif rmse < best_score:\n",
    "\t\t\t\t\t\tbest_score, best_cfg = rmse, order\n",
    "\t\t\t\t\tprint('ARIMA%s MSE=%.3f' % (order,rmse))\n",
    "\t\t\t\texcept:\n",
    "\t\t\t\t\tcontinue\n",
    "\tprint('Best ARIMA%s MSE=%.3f' % (best_cfg, best_score))\n",
    "    \n",
    "# evaluate parameters\n",
    "p_values = range(0, 3)\n",
    "d_values = range(0, 3)\n",
    "q_values = range(0, 3)\n",
    "warnings.filterwarnings(\"ignore\")\n",
    "evaluate_models(series1.values, series2.values, p_values, d_values, q_values)"
   ]
  },
  {
   "cell_type": "code",
   "execution_count": null,
   "metadata": {},
   "outputs": [],
   "source": []
  }
 ],
 "metadata": {
  "kernelspec": {
   "display_name": "Python 3",
   "language": "python",
   "name": "python3"
  },
  "language_info": {
   "codemirror_mode": {
    "name": "ipython",
    "version": 3
   },
   "file_extension": ".py",
   "mimetype": "text/x-python",
   "name": "python",
   "nbconvert_exporter": "python",
   "pygments_lexer": "ipython3",
   "version": "3.5.2"
  }
 },
 "nbformat": 4,
 "nbformat_minor": 2
}
